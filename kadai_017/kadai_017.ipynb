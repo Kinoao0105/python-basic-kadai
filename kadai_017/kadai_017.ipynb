{
  "nbformat": 4,
  "nbformat_minor": 0,
  "metadata": {
    "colab": {
      "provenance": []
    },
    "kernelspec": {
      "name": "python3",
      "display_name": "Python 3"
    },
    "language_info": {
      "name": "python"
    }
  },
  "cells": [
    {
      "cell_type": "code",
      "execution_count": 11,
      "metadata": {
        "id": "EKVvFnr5mHPX",
        "colab": {
          "base_uri": "https://localhost:8080/"
        },
        "outputId": "03643b38-039d-4432-e79c-463a349ad7f7"
      },
      "outputs": [
        {
          "output_type": "stream",
          "name": "stdout",
          "text": [
            "一郎 は20歳なので大人です\n",
            "太郎 は19歳なので大人ではありません\n",
            "花子 は21歳なので大人です\n"
          ]
        }
      ],
      "source": [
        "\n",
        "class Human:\n",
        "    def __init__(self, name, age):\n",
        "            # 属性を定義する\n",
        "            self.name = name\n",
        "            self.age = age\n",
        "\n",
        "    def check_adult(self):\n",
        "      if self.age >= 20:\n",
        "        print(f\"{self.name} は{self.age}歳なので大人です\")\n",
        "      else:\n",
        "        print(f\"{self.name} は{self.age}歳なので大人ではありません\")\n",
        "\n",
        "\n",
        "\n",
        "human_1 = Human(\"一郎\",20)\n",
        "human_2 = Human(\"太郎\",19)\n",
        "human_3 = Human(\"花子\",21)\n",
        "\n",
        "humans_list = [ human_1 ,human_2, human_3 ]\n",
        "\n",
        "for human in humans_list:\n",
        "    human.check_adult()\n"
      ]
    }
  ]
}