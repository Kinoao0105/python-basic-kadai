{
  "nbformat": 4,
  "nbformat_minor": 0,
  "metadata": {
    "colab": {
      "provenance": []
    },
    "kernelspec": {
      "name": "python3",
      "display_name": "Python 3"
    },
    "language_info": {
      "name": "python"
    }
  },
  "cells": [
    {
      "cell_type": "code",
      "execution_count": 5,
      "metadata": {
        "colab": {
          "base_uri": "https://localhost:8080/"
        },
        "id": "SKg1lHDkM07h",
        "outputId": "d36f24f7-39cb-4095-b003-c15be515a463"
      },
      "outputs": [
        {
          "output_type": "stream",
          "name": "stdout",
          "text": [
            "1870.0000000000002円\n"
          ]
        }
      ],
      "source": [
        "def total_price(price,tax):\n",
        "    total = price * ( 1 + tax)\n",
        "    print(f\"{total}円\")\n",
        "\n",
        "total_price(1700,0.10)\n"
      ]
    }
  ]
}