{
  "nbformat": 4,
  "nbformat_minor": 0,
  "metadata": {
    "colab": {
      "provenance": []
    },
    "kernelspec": {
      "name": "python3",
      "display_name": "Python 3"
    },
    "language_info": {
      "name": "python"
    }
  },
  "cells": [
    {
      "cell_type": "code",
      "execution_count": 3,
      "metadata": {
        "colab": {
          "base_uri": "https://localhost:8080/"
        },
        "id": "SKg1lHDkM07h",
        "outputId": "9248b95f-a6a6-4c7c-f320-221d83c65207"
      },
      "outputs": [
        {
          "output_type": "execute_result",
          "data": {
            "text/plain": [
              "1870.0000000000002"
            ]
          },
          "metadata": {},
          "execution_count": 3
        }
      ],
      "source": [
        "def total_price(price,tax):\n",
        "    total = price * ( 1 + tax)\n",
        "    return total\n",
        "\n",
        "total_price(1700,0.10)\n"
      ]
    }
  ]
}