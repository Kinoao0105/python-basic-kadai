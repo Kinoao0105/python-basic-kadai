{
  "nbformat": 4,
  "nbformat_minor": 0,
  "metadata": {
    "colab": {
      "provenance": []
    },
    "kernelspec": {
      "name": "python3",
      "display_name": "Python 3"
    },
    "language_info": {
      "name": "python"
    }
  },
  "cells": [
    {
      "cell_type": "code",
      "execution_count": 10,
      "metadata": {
        "colab": {
          "base_uri": "https://localhost:8080/"
        },
        "id": "t9wPbC15Agbq",
        "outputId": "74b50a24-0a4e-4003-97b0-7f096b6454b9"
      },
      "outputs": [
        {
          "output_type": "stream",
          "name": "stdout",
          "text": [
            "3\n",
            "Fizz\n"
          ]
        }
      ],
      "source": [
        "import random\n",
        "\n",
        "var = random.randint(0, 30)\n",
        "\n",
        "print(var)\n",
        "\n",
        "if  var%3 == 0 and  var%5 == 0:\n",
        "      print(\"FizzBuzz\")\n",
        "elif var%3 == 0:\n",
        "      print(\"Fizz\")\n",
        "elif var%5 == 0:\n",
        "      print(\"Buzz\")\n",
        "else :\n",
        "      print(var)"
      ]
    }
  ]
}