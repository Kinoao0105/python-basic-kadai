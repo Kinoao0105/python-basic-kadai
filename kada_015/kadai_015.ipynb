{
  "nbformat": 4,
  "nbformat_minor": 0,
  "metadata": {
    "colab": {
      "provenance": []
    },
    "kernelspec": {
      "name": "python3",
      "display_name": "Python 3"
    },
    "language_info": {
      "name": "python"
    }
  },
  "cells": [
    {
      "cell_type": "code",
      "execution_count": 11,
      "metadata": {
        "colab": {
          "base_uri": "https://localhost:8080/"
        },
        "id": "Y9PoNNs6UZeT",
        "outputId": "927dc66d-2a52-4f2b-fc2c-976a97e3f153"
      },
      "outputs": [
        {
          "output_type": "stream",
          "name": "stdout",
          "text": [
            "侍太郎 30\n"
          ]
        }
      ],
      "source": [
        "class Human:\n",
        "    def __init__(self, name, age):\n",
        "        # 属性を定義する\n",
        "        self.name = name\n",
        "        self.age = age\n",
        "\n",
        "    def printinfo(self, name, age):\n",
        "        print(self.name, self.age)\n",
        "\n",
        "human = Human(\"侍太郎\",\"30\")\n",
        "\n",
        "human.printinfo(human.name,human.age)\n"
      ]
    }
  ]
}